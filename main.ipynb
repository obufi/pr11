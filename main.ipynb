{
 "cells": [
  {
   "cell_type": "code",
   "execution_count": 77,
   "id": "37a47420-99cc-4eaf-9217-7237815a6856",
   "metadata": {},
   "outputs": [
    {
     "name": "stdout",
     "output_type": "stream",
     "text": [
      "Requirement already satisfied: webdriver-manager in c:\\users\\oriol\\anaconda3\\lib\\site-packages (4.0.2)\n",
      "Requirement already satisfied: requests in c:\\users\\oriol\\anaconda3\\lib\\site-packages (from webdriver-manager) (2.32.3)\n",
      "Requirement already satisfied: python-dotenv in c:\\users\\oriol\\anaconda3\\lib\\site-packages (from webdriver-manager) (0.21.0)\n",
      "Requirement already satisfied: packaging in c:\\users\\oriol\\anaconda3\\lib\\site-packages (from webdriver-manager) (24.1)\n",
      "Requirement already satisfied: charset-normalizer<4,>=2 in c:\\users\\oriol\\anaconda3\\lib\\site-packages (from requests->webdriver-manager) (3.3.2)\n",
      "Requirement already satisfied: idna<4,>=2.5 in c:\\users\\oriol\\anaconda3\\lib\\site-packages (from requests->webdriver-manager) (3.7)\n",
      "Requirement already satisfied: urllib3<3,>=1.21.1 in c:\\users\\oriol\\anaconda3\\lib\\site-packages (from requests->webdriver-manager) (2.2.3)\n",
      "Requirement already satisfied: certifi>=2017.4.17 in c:\\users\\oriol\\anaconda3\\lib\\site-packages (from requests->webdriver-manager) (2024.8.30)\n",
      "Note: you may need to restart the kernel to use updated packages.\n"
     ]
    }
   ],
   "source": [
    "pip install webdriver-manager\n"
   ]
  },
  {
   "cell_type": "code",
   "execution_count": 83,
   "id": "fc4a8cf7-1183-4a2d-8c91-88d87e937342",
   "metadata": {},
   "outputs": [
    {
     "name": "stdout",
     "output_type": "stream",
     "text": [
      "Les dades es troben a 'C:\\Users\\oriol\\Desktop\\dataset.csv'\n"
     ]
    }
   ],
   "source": [
    "import os #importem aquest mòdul el quan ens permet manipular rutes\n",
    "import csv #importem csv\n",
    "from selenium import webdriver #faig 'us de selenium. importo el webdriver per extreure dades de la pag web\n",
    "from selenium.webdriver.common.by import By #el By permet importar elements com el ID\n",
    "from selenium.webdriver.chrome.service import Service #importo Service per manejar Chrome\n",
    "from selenium.webdriver.support.ui import WebDriverWait #necessari per manejar selenium amb chrome\n",
    "from selenium.webdriver.support import expected_conditions as EC #evita errors\n",
    "from webdriver_manager.chrome import ChromeDriverManager\n",
    "\n",
    "# En aquest apartat, defineixo la p[agina web de la qual vull extreure la informaci'o\n",
    "url= 'https://www.worlddata.info/average-income.php'\n",
    "# Configuración de Selenium para abrir el navegador\n",
    "options = webdriver.ChromeOptions()\n",
    "options.add_argument('--headless')  # s-afegeix aquest argument per no extreure dades grafiques\n",
    "\n",
    "# Inicializar el navegador\n",
    "driver = webdriver.Chrome(service=Service(ChromeDriverManager().install()), options=options)\n",
    "\n",
    "# el driver va a buscar la p[agina web definida com a url\n",
    "driver.get(url)\n",
    "\n",
    "# aquesta refer[encia la faig servir per tal que selenium esperi 15s fins que aparegui un element a la taula\n",
    "wait = WebDriverWait(driver, 15)  # aqu'i afegim \n",
    "table = wait.until(EC.presence_of_element_located((By.TAG_NAME, \"table\")))\n",
    "\n",
    "\n",
    "header_row = table.find_elements(By.XPATH, './/th') # s-extrauen els headers de la taula, filtrant per celles th, que son celles header\n",
    "headers = [header.text for header in header_row]  # es guarden els elements de capsalera a headers\n",
    "\n",
    "all_data = [headers]  # la primera fila correspon als headers\n",
    "\n",
    "# ara busca tots els elements de les files tr.\n",
    "rows = table.find_elements(By.XPATH, './/tr')\n",
    "\n",
    "# trobem totes les dades td\n",
    "for row in rows: #iteraci'o a rows\n",
    "    cols = row.find_elements(By.TAG_NAME, \"td\") #es busquen els elements td\n",
    "    if cols:\n",
    "        row_data = [col.text for col in cols]\n",
    "        all_data.append(row_data) #si les files tenen dades td, les dades es guarden a row_data, que s-afegeix a la llista all_data\n",
    "\n",
    "# es guarden les dades a un csv\n",
    "desktop_path = os.path.join(os.path.expanduser(\"~\"), \"Desktop\", \"dataset.csv\")\n",
    "\n",
    "# Guardar los datos en un archivo CSV\n",
    "with open(desktop_path, 'w', newline='', encoding='utf-8') as file:\n",
    "    writer = csv.writer(file)\n",
    "    writer.writerows(all_data)\n",
    "\n",
    "# Cerrar el navegador\n",
    "driver.quit()\n",
    "\n",
    "print(f\"Les dades es troben a '{desktop_path}'\")\n"
   ]
  },
  {
   "cell_type": "code",
   "execution_count": null,
   "id": "22626cef-343a-4673-918b-866be4ce4e0e",
   "metadata": {},
   "outputs": [],
   "source": []
  }
 ],
 "metadata": {
  "kernelspec": {
   "display_name": "Python 3 (ipykernel)",
   "language": "python",
   "name": "python3"
  },
  "language_info": {
   "codemirror_mode": {
    "name": "ipython",
    "version": 3
   },
   "file_extension": ".py",
   "mimetype": "text/x-python",
   "name": "python",
   "nbconvert_exporter": "python",
   "pygments_lexer": "ipython3",
   "version": "3.12.7"
  }
 },
 "nbformat": 4,
 "nbformat_minor": 5
}
